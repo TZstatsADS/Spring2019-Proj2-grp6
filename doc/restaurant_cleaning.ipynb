{
 "cells": [
  {
   "cell_type": "code",
   "execution_count": 4,
   "metadata": {},
   "outputs": [],
   "source": [
    "# cat = ['French', 'Seafood', 'Thai', 'American (Traditional)',\n",
    "#        'Comfort Food', 'Italian', 'Brazilian', 'Pizza', 'Moroccan',\n",
    "#        'American (New)', 'Korean', 'Cocktail Bars', 'Shanghainese',\n",
    "#        'Cajun/Creole', 'Mediterranean', 'Indian', 'Vietnamese',\n",
    "#        'Filipino', 'Southern', 'Ramen', 'Mexican', 'Japanese',\n",
    "#        'Latin American', 'Szechuan', 'Tapas Bars', 'British', 'Cuban',\n",
    "#        'Bars', 'Steakhouses', 'Gastropubs', 'Chinese', 'Taiwanese',\n",
    "#        'Peruvian', 'Asian Fusion', 'Barbeque', 'Wine Bars',\n",
    "#        'Tapas/Small Plates', 'Breakfast & Brunch', 'Turkish', 'Greek',\n",
    "#        'Dim Sum', 'Chicken Wings', 'Food Stands', 'Argentine',\n",
    "#        'Specialty Food', 'Food Court', 'Malaysian', 'Gluten-Free',\n",
    "#        'Burgers', 'Whiskey Bars', 'Sushi Bars', 'Cafes', 'Tacos', 'Salad',\n",
    "#        'Indonesian', 'Hot Pot', 'Poke', 'Bakeries', 'Laotian',\n",
    "#        'Caribbean', 'Ethiopian', 'Cambodian', 'Izakaya', 'Soul Food',\n",
    "#        'Sandwiches', 'Georgian', 'Lounges', 'Coffee & Tea', 'Desserts',\n",
    "#        'Australian', 'Modern European', 'Irish', 'Noodles', 'Polish',\n",
    "#        'Spanish', 'New Mexican Cuisine', 'Beer Bar', 'Pubs',\n",
    "#        'Middle Eastern', 'Scandinavian', 'Pan Asian', 'Lebanese',\n",
    "#        'Russian', 'Diners', 'Teppanyaki', 'Venezuelan', 'Sports Bars',\n",
    "#        'Dominican', 'Hong Kong Style Cafe', 'Egyptian', 'Colombian',\n",
    "#        'Fast Food', 'Delis', 'Himalayan/Nepalese', 'Cinema', 'Vegan',\n",
    "#        'Burmese', 'Buffets', 'Seafood Markets', 'Hot Dogs',\n",
    "#        'Japanese Curry', 'Venues & Event Spaces', 'Boating', 'Uzbek',\n",
    "#        'Irish Pub', 'Haitian', 'Juice Bars & Smoothies', 'Chicken Shop',\n",
    "#        'Belgian']\n",
    "import pandas as pd\n",
    "import numpy as np\n",
    "from yelpapi import YelpAPI\n",
    "from tqdm import tqdm_notebook"
   ]
  },
  {
   "cell_type": "code",
   "execution_count": 52,
   "metadata": {},
   "outputs": [
    {
     "data": {
      "application/vnd.jupyter.widget-view+json": {
       "model_id": "83589b3c584847d3863cfa79d2d526d9",
       "version_major": 2,
       "version_minor": 0
      },
      "text/plain": [
       "HBox(children=(IntProgress(value=0, max=9), HTML(value='')))"
      ]
     },
     "metadata": {},
     "output_type": "display_data"
    },
    {
     "data": {
      "application/vnd.jupyter.widget-view+json": {
       "model_id": "2acc7deb86bb4f73b6847e7dd3463b70",
       "version_major": 2,
       "version_minor": 0
      },
      "text/plain": [
       "HBox(children=(IntProgress(value=0, max=20), HTML(value='')))"
      ]
     },
     "metadata": {},
     "output_type": "display_data"
    },
    {
     "data": {
      "application/vnd.jupyter.widget-view+json": {
       "model_id": "d14e31aa03834b35a64849a3b59a745b",
       "version_major": 2,
       "version_minor": 0
      },
      "text/plain": [
       "HBox(children=(IntProgress(value=0, max=20), HTML(value='')))"
      ]
     },
     "metadata": {},
     "output_type": "display_data"
    },
    {
     "data": {
      "application/vnd.jupyter.widget-view+json": {
       "model_id": "cf2418992f004426aa42e42858195c95",
       "version_major": 2,
       "version_minor": 0
      },
      "text/plain": [
       "HBox(children=(IntProgress(value=0, max=20), HTML(value='')))"
      ]
     },
     "metadata": {},
     "output_type": "display_data"
    },
    {
     "data": {
      "application/vnd.jupyter.widget-view+json": {
       "model_id": "bd920f63b4ba4cf1adedf54dfd14ef7f",
       "version_major": 2,
       "version_minor": 0
      },
      "text/plain": [
       "HBox(children=(IntProgress(value=0, max=20), HTML(value='')))"
      ]
     },
     "metadata": {},
     "output_type": "display_data"
    },
    {
     "data": {
      "application/vnd.jupyter.widget-view+json": {
       "model_id": "111281daeccb43ae9b3eb51c635154eb",
       "version_major": 2,
       "version_minor": 0
      },
      "text/plain": [
       "HBox(children=(IntProgress(value=0, max=20), HTML(value='')))"
      ]
     },
     "metadata": {},
     "output_type": "display_data"
    },
    {
     "data": {
      "application/vnd.jupyter.widget-view+json": {
       "model_id": "2617506722b343a59134f9ed02341969",
       "version_major": 2,
       "version_minor": 0
      },
      "text/plain": [
       "HBox(children=(IntProgress(value=0, max=20), HTML(value='')))"
      ]
     },
     "metadata": {},
     "output_type": "display_data"
    },
    {
     "data": {
      "application/vnd.jupyter.widget-view+json": {
       "model_id": "d1e6ba0cc9f944168cc5a8bdc083c8f7",
       "version_major": 2,
       "version_minor": 0
      },
      "text/plain": [
       "HBox(children=(IntProgress(value=0, max=20), HTML(value='')))"
      ]
     },
     "metadata": {},
     "output_type": "display_data"
    },
    {
     "data": {
      "application/vnd.jupyter.widget-view+json": {
       "model_id": "e081ad0c7cd04e149e5e4638cf106fcf",
       "version_major": 2,
       "version_minor": 0
      },
      "text/plain": [
       "HBox(children=(IntProgress(value=0, max=20), HTML(value='')))"
      ]
     },
     "metadata": {},
     "output_type": "display_data"
    },
    {
     "data": {
      "application/vnd.jupyter.widget-view+json": {
       "model_id": "c740b101eed64daaad701b46fd4db391",
       "version_major": 2,
       "version_minor": 0
      },
      "text/plain": [
       "HBox(children=(IntProgress(value=0, max=20), HTML(value='')))"
      ]
     },
     "metadata": {},
     "output_type": "display_data"
    },
    {
     "name": "stdout",
     "output_type": "stream",
     "text": [
      "\n"
     ]
    }
   ],
   "source": [
    "restaurant_lst = []\n",
    "total_offset = 1000\n",
    "# Replace by your api\n",
    "api_key = \"Jr9s6tgYQVnfeVwT7xRB7vqsrrWixIweUq-c9pMUIfW2BMPyRjilsph2VW1QSsjGWY9oA9jwMby0HoZAnOqqsVNltRWNIlKY14JwUIFd08AqW3Vz_2QgQLCsEORpXHYx\" \n",
    "yelp_api = YelpAPI(api_key)\n",
    "\n",
    "# You can add more categories here\n",
    "cat = ['Chinese','Italian','Thai','French','Japanese','Korean','Malaysian','Mexican','Spanish']\n",
    "\n",
    "for j in tqdm_notebook(np.arange(len(cat))):\n",
    "    for i in tqdm_notebook(np.arange(0,total_offset,50)):\n",
    "        restaurant_lst.append(yelp_api.search_query(term = cat[j],location={'New York City'},offset = i,limit = 50)['businesses'])\n"
   ]
  },
  {
   "cell_type": "code",
   "execution_count": 53,
   "metadata": {},
   "outputs": [],
   "source": [
    "name,review_count,categories,rating,latitude,longitude,price,address,zip_code = [[] for i in range(9)]\n",
    "\n",
    "for i in np.arange(len(restaurant_lst)):\n",
    "    for x in restaurant_lst[i]:\n",
    "        name.append(x['name'])\n",
    "        review_count.append(x['review_count'])\n",
    "        categories.append(x['categories'][0]['title'])\n",
    "        rating.append(x['rating'])\n",
    "        latitude.append(x['coordinates']['latitude'])\n",
    "        longitude.append(x['coordinates']['longitude'])\n",
    "        address.append(x['location']['address1'])\n",
    "        zip_code.append(x['location']['zip_code'])\n",
    "        try:\n",
    "            price.append(x['price'])\n",
    "        except:\n",
    "            price.append(np.nan)\n",
    "\n",
    "data = pd.DataFrame(list(zip(name,review_count,categories,rating,latitude,longitude,price,address,zip_code)),\n",
    "                columns = ['name','review_count','categories','rating','latitude','longitude','price','address','zip_code'])\n",
    "\n",
    "# data.drop_duplicates(inplace = True)\n",
    "# data.reset_index(drop = True,inplace = True)"
   ]
  },
  {
   "cell_type": "code",
   "execution_count": 68,
   "metadata": {},
   "outputs": [],
   "source": [
    "def zip_code_clean(row):\n",
    "    try:\n",
    "        return int(row)\n",
    "    except:\n",
    "        return np.nan\n",
    "\n",
    "data.zip_code = data.zip_code.apply(zip_code_clean)"
   ]
  },
  {
   "cell_type": "code",
   "execution_count": 69,
   "metadata": {},
   "outputs": [
    {
     "data": {
      "text/plain": [
       "9"
      ]
     },
     "execution_count": 69,
     "metadata": {},
     "output_type": "execute_result"
    }
   ],
   "source": [
    "data.zip_code.isnull().sum()"
   ]
  },
  {
   "cell_type": "code",
   "execution_count": 70,
   "metadata": {},
   "outputs": [],
   "source": [
    "data = data[(data.zip_code >= 10000) & (data.zip_code <= 11436)]"
   ]
  },
  {
   "cell_type": "code",
   "execution_count": 73,
   "metadata": {},
   "outputs": [],
   "source": [
    "data.dropna(inplace = True)"
   ]
  },
  {
   "cell_type": "code",
   "execution_count": 80,
   "metadata": {},
   "outputs": [],
   "source": [
    "data.drop_duplicates(inplace = True)\n",
    "data.reset_index(drop = True,inplace = True)\n"
   ]
  },
  {
   "cell_type": "code",
   "execution_count": 116,
   "metadata": {},
   "outputs": [
    {
     "data": {
      "text/html": [
       "<div>\n",
       "<style scoped>\n",
       "    .dataframe tbody tr th:only-of-type {\n",
       "        vertical-align: middle;\n",
       "    }\n",
       "\n",
       "    .dataframe tbody tr th {\n",
       "        vertical-align: top;\n",
       "    }\n",
       "\n",
       "    .dataframe thead th {\n",
       "        text-align: right;\n",
       "    }\n",
       "</style>\n",
       "<table border=\"1\" class=\"dataframe\">\n",
       "  <thead>\n",
       "    <tr style=\"text-align: right;\">\n",
       "      <th></th>\n",
       "      <th>name</th>\n",
       "      <th>review_count</th>\n",
       "      <th>categories</th>\n",
       "      <th>rating</th>\n",
       "      <th>latitude</th>\n",
       "      <th>longitude</th>\n",
       "      <th>price</th>\n",
       "      <th>address</th>\n",
       "      <th>zip_code</th>\n",
       "    </tr>\n",
       "  </thead>\n",
       "  <tbody>\n",
       "    <tr>\n",
       "      <th>2314</th>\n",
       "      <td>Sushi Ishikawa</td>\n",
       "      <td>129</td>\n",
       "      <td>Sushi Bars</td>\n",
       "      <td>4.5</td>\n",
       "      <td>40.768783</td>\n",
       "      <td>-73.953898</td>\n",
       "      <td>$$$$</td>\n",
       "      <td>419 E 74th St</td>\n",
       "      <td>10021.0</td>\n",
       "    </tr>\n",
       "    <tr>\n",
       "      <th>3130</th>\n",
       "      <td>Sushi Daizen</td>\n",
       "      <td>93</td>\n",
       "      <td>Sushi Bars</td>\n",
       "      <td>4.5</td>\n",
       "      <td>40.744450</td>\n",
       "      <td>-73.953820</td>\n",
       "      <td>$$$$</td>\n",
       "      <td>47-38 Vernon Blvd</td>\n",
       "      <td>11101.0</td>\n",
       "    </tr>\n",
       "    <tr>\n",
       "      <th>3161</th>\n",
       "      <td>Sushi Kaito</td>\n",
       "      <td>129</td>\n",
       "      <td>Sushi Bars</td>\n",
       "      <td>4.5</td>\n",
       "      <td>40.779160</td>\n",
       "      <td>-73.983670</td>\n",
       "      <td>$$$$</td>\n",
       "      <td>244 W 72nd St</td>\n",
       "      <td>10023.0</td>\n",
       "    </tr>\n",
       "    <tr>\n",
       "      <th>3204</th>\n",
       "      <td>Sushi Ginza Onodera</td>\n",
       "      <td>140</td>\n",
       "      <td>Sushi Bars</td>\n",
       "      <td>4.5</td>\n",
       "      <td>40.752340</td>\n",
       "      <td>-73.981510</td>\n",
       "      <td>$$$$</td>\n",
       "      <td>461 5th Ave</td>\n",
       "      <td>10017.0</td>\n",
       "    </tr>\n",
       "    <tr>\n",
       "      <th>3253</th>\n",
       "      <td>Sushi Inoue</td>\n",
       "      <td>106</td>\n",
       "      <td>Sushi Bars</td>\n",
       "      <td>4.0</td>\n",
       "      <td>40.810444</td>\n",
       "      <td>-73.943642</td>\n",
       "      <td>$$$$</td>\n",
       "      <td>381 Lenox Ave</td>\n",
       "      <td>10027.0</td>\n",
       "    </tr>\n",
       "    <tr>\n",
       "      <th>3255</th>\n",
       "      <td>Tanoshi Sushi Sake Bar</td>\n",
       "      <td>574</td>\n",
       "      <td>Sushi Bars</td>\n",
       "      <td>4.5</td>\n",
       "      <td>40.767568</td>\n",
       "      <td>-73.952815</td>\n",
       "      <td>$$$$</td>\n",
       "      <td>1372 York Ave</td>\n",
       "      <td>10021.0</td>\n",
       "    </tr>\n",
       "    <tr>\n",
       "      <th>3258</th>\n",
       "      <td>Sushi Azabu</td>\n",
       "      <td>413</td>\n",
       "      <td>Sushi Bars</td>\n",
       "      <td>4.0</td>\n",
       "      <td>40.722293</td>\n",
       "      <td>-74.009884</td>\n",
       "      <td>$$$$</td>\n",
       "      <td>428 Greenwich St</td>\n",
       "      <td>10013.0</td>\n",
       "    </tr>\n",
       "    <tr>\n",
       "      <th>3263</th>\n",
       "      <td>Kakurega Sushi</td>\n",
       "      <td>43</td>\n",
       "      <td>Sushi Bars</td>\n",
       "      <td>4.0</td>\n",
       "      <td>40.760567</td>\n",
       "      <td>-73.833354</td>\n",
       "      <td>$$$$</td>\n",
       "      <td>133-44 37th Ave</td>\n",
       "      <td>11354.0</td>\n",
       "    </tr>\n",
       "    <tr>\n",
       "      <th>3282</th>\n",
       "      <td>Nobu Fifty Seven</td>\n",
       "      <td>1076</td>\n",
       "      <td>Sushi Bars</td>\n",
       "      <td>4.0</td>\n",
       "      <td>40.763621</td>\n",
       "      <td>-73.976505</td>\n",
       "      <td>$$$$</td>\n",
       "      <td>40 W 57th St</td>\n",
       "      <td>10019.0</td>\n",
       "    </tr>\n",
       "    <tr>\n",
       "      <th>3284</th>\n",
       "      <td>Sushi Of Gari</td>\n",
       "      <td>594</td>\n",
       "      <td>Sushi Bars</td>\n",
       "      <td>4.0</td>\n",
       "      <td>40.771370</td>\n",
       "      <td>-73.952750</td>\n",
       "      <td>$$$$</td>\n",
       "      <td>402 E 78th St</td>\n",
       "      <td>10075.0</td>\n",
       "    </tr>\n",
       "    <tr>\n",
       "      <th>3296</th>\n",
       "      <td>Kuruma Zushi</td>\n",
       "      <td>221</td>\n",
       "      <td>Sushi Bars</td>\n",
       "      <td>4.0</td>\n",
       "      <td>40.756530</td>\n",
       "      <td>-73.977680</td>\n",
       "      <td>$$$$</td>\n",
       "      <td>7 E 47th St</td>\n",
       "      <td>10017.0</td>\n",
       "    </tr>\n",
       "    <tr>\n",
       "      <th>3308</th>\n",
       "      <td>Sushi Ryusei</td>\n",
       "      <td>52</td>\n",
       "      <td>Sushi Bars</td>\n",
       "      <td>4.5</td>\n",
       "      <td>40.748450</td>\n",
       "      <td>-73.975130</td>\n",
       "      <td>$$$$</td>\n",
       "      <td>216 E 39th St</td>\n",
       "      <td>10016.0</td>\n",
       "    </tr>\n",
       "    <tr>\n",
       "      <th>3319</th>\n",
       "      <td>Masa</td>\n",
       "      <td>306</td>\n",
       "      <td>Sushi Bars</td>\n",
       "      <td>4.0</td>\n",
       "      <td>40.768606</td>\n",
       "      <td>-73.983278</td>\n",
       "      <td>$$$$</td>\n",
       "      <td>10 Columbus Cir</td>\n",
       "      <td>10019.0</td>\n",
       "    </tr>\n",
       "    <tr>\n",
       "      <th>3324</th>\n",
       "      <td>Omakase Room by Tatsu</td>\n",
       "      <td>86</td>\n",
       "      <td>Sushi Bars</td>\n",
       "      <td>4.5</td>\n",
       "      <td>40.733820</td>\n",
       "      <td>-74.000420</td>\n",
       "      <td>$$$$</td>\n",
       "      <td>14 Christopher St</td>\n",
       "      <td>10014.0</td>\n",
       "    </tr>\n",
       "    <tr>\n",
       "      <th>3334</th>\n",
       "      <td>SHOJI at 69 Leonard St</td>\n",
       "      <td>40</td>\n",
       "      <td>Sushi Bars</td>\n",
       "      <td>4.5</td>\n",
       "      <td>40.717720</td>\n",
       "      <td>-74.005380</td>\n",
       "      <td>$$$$</td>\n",
       "      <td>69 Leonard St</td>\n",
       "      <td>10013.0</td>\n",
       "    </tr>\n",
       "    <tr>\n",
       "      <th>3337</th>\n",
       "      <td>Uchu</td>\n",
       "      <td>57</td>\n",
       "      <td>Sushi Bars</td>\n",
       "      <td>4.5</td>\n",
       "      <td>40.721720</td>\n",
       "      <td>-73.990260</td>\n",
       "      <td>$$$$</td>\n",
       "      <td>217 Eldridge St</td>\n",
       "      <td>10002.0</td>\n",
       "    </tr>\n",
       "    <tr>\n",
       "      <th>3367</th>\n",
       "      <td>Neta</td>\n",
       "      <td>349</td>\n",
       "      <td>Sushi Bars</td>\n",
       "      <td>4.0</td>\n",
       "      <td>40.733500</td>\n",
       "      <td>-73.999070</td>\n",
       "      <td>$$$$</td>\n",
       "      <td>61 W 8th St</td>\n",
       "      <td>10011.0</td>\n",
       "    </tr>\n",
       "    <tr>\n",
       "      <th>3371</th>\n",
       "      <td>Sushi of Gari 46</td>\n",
       "      <td>642</td>\n",
       "      <td>Sushi Bars</td>\n",
       "      <td>4.0</td>\n",
       "      <td>40.760720</td>\n",
       "      <td>-73.989570</td>\n",
       "      <td>$$$$</td>\n",
       "      <td>347 W 46th St</td>\n",
       "      <td>10036.0</td>\n",
       "    </tr>\n",
       "    <tr>\n",
       "      <th>3397</th>\n",
       "      <td>noda</td>\n",
       "      <td>21</td>\n",
       "      <td>Sushi Bars</td>\n",
       "      <td>4.5</td>\n",
       "      <td>40.744780</td>\n",
       "      <td>-73.988100</td>\n",
       "      <td>$$$$</td>\n",
       "      <td>6 West 28th St</td>\n",
       "      <td>10001.0</td>\n",
       "    </tr>\n",
       "    <tr>\n",
       "      <th>3419</th>\n",
       "      <td>The Lobster Club</td>\n",
       "      <td>73</td>\n",
       "      <td>Sushi Bars</td>\n",
       "      <td>4.0</td>\n",
       "      <td>40.758301</td>\n",
       "      <td>-73.971868</td>\n",
       "      <td>$$$$</td>\n",
       "      <td>98 E 53rd St</td>\n",
       "      <td>10022.0</td>\n",
       "    </tr>\n",
       "    <tr>\n",
       "      <th>3460</th>\n",
       "      <td>Sushi Zo Hanare - Midtown</td>\n",
       "      <td>13</td>\n",
       "      <td>Sushi Bars</td>\n",
       "      <td>5.0</td>\n",
       "      <td>40.749710</td>\n",
       "      <td>-73.977590</td>\n",
       "      <td>$$$$</td>\n",
       "      <td>127 E 39th St</td>\n",
       "      <td>10016.0</td>\n",
       "    </tr>\n",
       "    <tr>\n",
       "      <th>3490</th>\n",
       "      <td>Gari Columbus</td>\n",
       "      <td>315</td>\n",
       "      <td>Sushi Bars</td>\n",
       "      <td>4.0</td>\n",
       "      <td>40.781120</td>\n",
       "      <td>-73.976320</td>\n",
       "      <td>$$$$</td>\n",
       "      <td>370 Columbus Ave</td>\n",
       "      <td>10024.0</td>\n",
       "    </tr>\n",
       "    <tr>\n",
       "      <th>3537</th>\n",
       "      <td>Kappo Masa</td>\n",
       "      <td>50</td>\n",
       "      <td>Sushi Bars</td>\n",
       "      <td>3.5</td>\n",
       "      <td>40.774647</td>\n",
       "      <td>-73.963531</td>\n",
       "      <td>$$$$</td>\n",
       "      <td>976 Madison Ave</td>\n",
       "      <td>10075.0</td>\n",
       "    </tr>\n",
       "    <tr>\n",
       "      <th>3581</th>\n",
       "      <td>Jewel Bako</td>\n",
       "      <td>524</td>\n",
       "      <td>Sushi Bars</td>\n",
       "      <td>3.5</td>\n",
       "      <td>40.726990</td>\n",
       "      <td>-73.989220</td>\n",
       "      <td>$$$$</td>\n",
       "      <td>239 E 5th St</td>\n",
       "      <td>10003.0</td>\n",
       "    </tr>\n",
       "    <tr>\n",
       "      <th>3622</th>\n",
       "      <td>Sushi Dojo NYC</td>\n",
       "      <td>386</td>\n",
       "      <td>Sushi Bars</td>\n",
       "      <td>4.0</td>\n",
       "      <td>40.726627</td>\n",
       "      <td>-73.985672</td>\n",
       "      <td>$$$$</td>\n",
       "      <td>110 1st Ave</td>\n",
       "      <td>10009.0</td>\n",
       "    </tr>\n",
       "    <tr>\n",
       "      <th>3624</th>\n",
       "      <td>Mayanoki</td>\n",
       "      <td>43</td>\n",
       "      <td>Sushi Bars</td>\n",
       "      <td>4.5</td>\n",
       "      <td>40.723920</td>\n",
       "      <td>-73.980850</td>\n",
       "      <td>$$$$</td>\n",
       "      <td>620 E 6th St</td>\n",
       "      <td>10003.0</td>\n",
       "    </tr>\n",
       "    <tr>\n",
       "      <th>3634</th>\n",
       "      <td>sushi AMANE</td>\n",
       "      <td>42</td>\n",
       "      <td>Sushi Bars</td>\n",
       "      <td>4.0</td>\n",
       "      <td>40.751570</td>\n",
       "      <td>-73.971720</td>\n",
       "      <td>$$$$</td>\n",
       "      <td>245 E 44th St</td>\n",
       "      <td>10017.0</td>\n",
       "    </tr>\n",
       "    <tr>\n",
       "      <th>3735</th>\n",
       "      <td>Sushi Katsuei</td>\n",
       "      <td>65</td>\n",
       "      <td>Sushi Bars</td>\n",
       "      <td>3.5</td>\n",
       "      <td>40.732260</td>\n",
       "      <td>-74.000920</td>\n",
       "      <td>$$$$</td>\n",
       "      <td>357 6th Ave</td>\n",
       "      <td>10014.0</td>\n",
       "    </tr>\n",
       "  </tbody>\n",
       "</table>\n",
       "</div>"
      ],
      "text/plain": [
       "                           name  review_count  categories  rating   latitude  \\\n",
       "2314             Sushi Ishikawa           129  Sushi Bars     4.5  40.768783   \n",
       "3130               Sushi Daizen            93  Sushi Bars     4.5  40.744450   \n",
       "3161                Sushi Kaito           129  Sushi Bars     4.5  40.779160   \n",
       "3204        Sushi Ginza Onodera           140  Sushi Bars     4.5  40.752340   \n",
       "3253                Sushi Inoue           106  Sushi Bars     4.0  40.810444   \n",
       "3255     Tanoshi Sushi Sake Bar           574  Sushi Bars     4.5  40.767568   \n",
       "3258                Sushi Azabu           413  Sushi Bars     4.0  40.722293   \n",
       "3263             Kakurega Sushi            43  Sushi Bars     4.0  40.760567   \n",
       "3282           Nobu Fifty Seven          1076  Sushi Bars     4.0  40.763621   \n",
       "3284              Sushi Of Gari           594  Sushi Bars     4.0  40.771370   \n",
       "3296               Kuruma Zushi           221  Sushi Bars     4.0  40.756530   \n",
       "3308               Sushi Ryusei            52  Sushi Bars     4.5  40.748450   \n",
       "3319                       Masa           306  Sushi Bars     4.0  40.768606   \n",
       "3324      Omakase Room by Tatsu            86  Sushi Bars     4.5  40.733820   \n",
       "3334     SHOJI at 69 Leonard St            40  Sushi Bars     4.5  40.717720   \n",
       "3337                       Uchu            57  Sushi Bars     4.5  40.721720   \n",
       "3367                       Neta           349  Sushi Bars     4.0  40.733500   \n",
       "3371           Sushi of Gari 46           642  Sushi Bars     4.0  40.760720   \n",
       "3397                       noda            21  Sushi Bars     4.5  40.744780   \n",
       "3419           The Lobster Club            73  Sushi Bars     4.0  40.758301   \n",
       "3460  Sushi Zo Hanare - Midtown            13  Sushi Bars     5.0  40.749710   \n",
       "3490              Gari Columbus           315  Sushi Bars     4.0  40.781120   \n",
       "3537                 Kappo Masa            50  Sushi Bars     3.5  40.774647   \n",
       "3581                 Jewel Bako           524  Sushi Bars     3.5  40.726990   \n",
       "3622             Sushi Dojo NYC           386  Sushi Bars     4.0  40.726627   \n",
       "3624                   Mayanoki            43  Sushi Bars     4.5  40.723920   \n",
       "3634                sushi AMANE            42  Sushi Bars     4.0  40.751570   \n",
       "3735              Sushi Katsuei            65  Sushi Bars     3.5  40.732260   \n",
       "\n",
       "      longitude price            address  zip_code  \n",
       "2314 -73.953898  $$$$      419 E 74th St   10021.0  \n",
       "3130 -73.953820  $$$$  47-38 Vernon Blvd   11101.0  \n",
       "3161 -73.983670  $$$$      244 W 72nd St   10023.0  \n",
       "3204 -73.981510  $$$$        461 5th Ave   10017.0  \n",
       "3253 -73.943642  $$$$      381 Lenox Ave   10027.0  \n",
       "3255 -73.952815  $$$$      1372 York Ave   10021.0  \n",
       "3258 -74.009884  $$$$   428 Greenwich St   10013.0  \n",
       "3263 -73.833354  $$$$    133-44 37th Ave   11354.0  \n",
       "3282 -73.976505  $$$$       40 W 57th St   10019.0  \n",
       "3284 -73.952750  $$$$      402 E 78th St   10075.0  \n",
       "3296 -73.977680  $$$$        7 E 47th St   10017.0  \n",
       "3308 -73.975130  $$$$      216 E 39th St   10016.0  \n",
       "3319 -73.983278  $$$$    10 Columbus Cir   10019.0  \n",
       "3324 -74.000420  $$$$  14 Christopher St   10014.0  \n",
       "3334 -74.005380  $$$$      69 Leonard St   10013.0  \n",
       "3337 -73.990260  $$$$    217 Eldridge St   10002.0  \n",
       "3367 -73.999070  $$$$        61 W 8th St   10011.0  \n",
       "3371 -73.989570  $$$$      347 W 46th St   10036.0  \n",
       "3397 -73.988100  $$$$     6 West 28th St   10001.0  \n",
       "3419 -73.971868  $$$$       98 E 53rd St   10022.0  \n",
       "3460 -73.977590  $$$$      127 E 39th St   10016.0  \n",
       "3490 -73.976320  $$$$   370 Columbus Ave   10024.0  \n",
       "3537 -73.963531  $$$$    976 Madison Ave   10075.0  \n",
       "3581 -73.989220  $$$$       239 E 5th St   10003.0  \n",
       "3622 -73.985672  $$$$        110 1st Ave   10009.0  \n",
       "3624 -73.980850  $$$$       620 E 6th St   10003.0  \n",
       "3634 -73.971720  $$$$      245 E 44th St   10017.0  \n",
       "3735 -74.000920  $$$$        357 6th Ave   10014.0  "
      ]
     },
     "execution_count": 116,
     "metadata": {},
     "output_type": "execute_result"
    }
   ],
   "source": [
    "data[(data.price == '$$$$') & (data.categories == 'Sushi Bars')]"
   ]
  },
  {
   "cell_type": "markdown",
   "metadata": {},
   "source": [
    "# To CSV"
   ]
  },
  {
   "cell_type": "code",
   "execution_count": 117,
   "metadata": {},
   "outputs": [],
   "source": [
    "data.to_csv('restaurant_NYC.csv', index = False)"
   ]
  },
  {
   "cell_type": "code",
   "execution_count": null,
   "metadata": {},
   "outputs": [],
   "source": []
  }
 ],
 "metadata": {
  "kernelspec": {
   "display_name": "Python 3",
   "language": "python",
   "name": "python3"
  },
  "language_info": {
   "codemirror_mode": {
    "name": "ipython",
    "version": 3
   },
   "file_extension": ".py",
   "mimetype": "text/x-python",
   "name": "python",
   "nbconvert_exporter": "python",
   "pygments_lexer": "ipython3",
   "version": "3.7.1"
  }
 },
 "nbformat": 4,
 "nbformat_minor": 2
}
